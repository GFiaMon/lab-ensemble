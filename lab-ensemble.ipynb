{
 "cells": [
  {
   "cell_type": "markdown",
   "metadata": {},
   "source": [
    "# LAB | Ensemble Methods"
   ]
  },
  {
   "cell_type": "markdown",
   "metadata": {},
   "source": [
    "**Load the data**\n",
    "\n",
    "In this challenge, we will be working with the same Spaceship Titanic data, like the previous Lab. The data can be found here:\n",
    "\n",
    "https://raw.githubusercontent.com/data-bootcamp-v4/data/main/spaceship_titanic.csv\n",
    "\n",
    "Metadata\n",
    "\n",
    "https://github.com/data-bootcamp-v4/data/blob/main/spaceship_titanic.md"
   ]
  },
  {
   "cell_type": "markdown",
   "metadata": {},
   "source": [
    "In this Lab, you should try different ensemble methods in order to see if can obtain a better model than before. In order to do a fair comparison, you should perform the same feature scaling, engineering applied in previous Lab."
   ]
  },
  {
   "cell_type": "code",
   "execution_count": 1,
   "metadata": {},
   "outputs": [],
   "source": [
    "#Libraries\n",
    "import pandas as pd\n",
    "import numpy as np\n",
    "from sklearn.model_selection import train_test_split"
   ]
  },
  {
   "cell_type": "code",
   "execution_count": 2,
   "metadata": {},
   "outputs": [
    {
     "data": {
      "text/html": [
       "<div>\n",
       "<style scoped>\n",
       "    .dataframe tbody tr th:only-of-type {\n",
       "        vertical-align: middle;\n",
       "    }\n",
       "\n",
       "    .dataframe tbody tr th {\n",
       "        vertical-align: top;\n",
       "    }\n",
       "\n",
       "    .dataframe thead th {\n",
       "        text-align: right;\n",
       "    }\n",
       "</style>\n",
       "<table border=\"1\" class=\"dataframe\">\n",
       "  <thead>\n",
       "    <tr style=\"text-align: right;\">\n",
       "      <th></th>\n",
       "      <th>PassengerId</th>\n",
       "      <th>HomePlanet</th>\n",
       "      <th>CryoSleep</th>\n",
       "      <th>Cabin</th>\n",
       "      <th>Destination</th>\n",
       "      <th>Age</th>\n",
       "      <th>VIP</th>\n",
       "      <th>RoomService</th>\n",
       "      <th>FoodCourt</th>\n",
       "      <th>ShoppingMall</th>\n",
       "      <th>Spa</th>\n",
       "      <th>VRDeck</th>\n",
       "      <th>Name</th>\n",
       "      <th>Transported</th>\n",
       "    </tr>\n",
       "  </thead>\n",
       "  <tbody>\n",
       "    <tr>\n",
       "      <th>0</th>\n",
       "      <td>0001_01</td>\n",
       "      <td>Europa</td>\n",
       "      <td>False</td>\n",
       "      <td>B/0/P</td>\n",
       "      <td>TRAPPIST-1e</td>\n",
       "      <td>39.0</td>\n",
       "      <td>False</td>\n",
       "      <td>0.0</td>\n",
       "      <td>0.0</td>\n",
       "      <td>0.0</td>\n",
       "      <td>0.0</td>\n",
       "      <td>0.0</td>\n",
       "      <td>Maham Ofracculy</td>\n",
       "      <td>False</td>\n",
       "    </tr>\n",
       "    <tr>\n",
       "      <th>1</th>\n",
       "      <td>0002_01</td>\n",
       "      <td>Earth</td>\n",
       "      <td>False</td>\n",
       "      <td>F/0/S</td>\n",
       "      <td>TRAPPIST-1e</td>\n",
       "      <td>24.0</td>\n",
       "      <td>False</td>\n",
       "      <td>109.0</td>\n",
       "      <td>9.0</td>\n",
       "      <td>25.0</td>\n",
       "      <td>549.0</td>\n",
       "      <td>44.0</td>\n",
       "      <td>Juanna Vines</td>\n",
       "      <td>True</td>\n",
       "    </tr>\n",
       "    <tr>\n",
       "      <th>2</th>\n",
       "      <td>0003_01</td>\n",
       "      <td>Europa</td>\n",
       "      <td>False</td>\n",
       "      <td>A/0/S</td>\n",
       "      <td>TRAPPIST-1e</td>\n",
       "      <td>58.0</td>\n",
       "      <td>True</td>\n",
       "      <td>43.0</td>\n",
       "      <td>3576.0</td>\n",
       "      <td>0.0</td>\n",
       "      <td>6715.0</td>\n",
       "      <td>49.0</td>\n",
       "      <td>Altark Susent</td>\n",
       "      <td>False</td>\n",
       "    </tr>\n",
       "    <tr>\n",
       "      <th>3</th>\n",
       "      <td>0003_02</td>\n",
       "      <td>Europa</td>\n",
       "      <td>False</td>\n",
       "      <td>A/0/S</td>\n",
       "      <td>TRAPPIST-1e</td>\n",
       "      <td>33.0</td>\n",
       "      <td>False</td>\n",
       "      <td>0.0</td>\n",
       "      <td>1283.0</td>\n",
       "      <td>371.0</td>\n",
       "      <td>3329.0</td>\n",
       "      <td>193.0</td>\n",
       "      <td>Solam Susent</td>\n",
       "      <td>False</td>\n",
       "    </tr>\n",
       "    <tr>\n",
       "      <th>4</th>\n",
       "      <td>0004_01</td>\n",
       "      <td>Earth</td>\n",
       "      <td>False</td>\n",
       "      <td>F/1/S</td>\n",
       "      <td>TRAPPIST-1e</td>\n",
       "      <td>16.0</td>\n",
       "      <td>False</td>\n",
       "      <td>303.0</td>\n",
       "      <td>70.0</td>\n",
       "      <td>151.0</td>\n",
       "      <td>565.0</td>\n",
       "      <td>2.0</td>\n",
       "      <td>Willy Santantines</td>\n",
       "      <td>True</td>\n",
       "    </tr>\n",
       "  </tbody>\n",
       "</table>\n",
       "</div>"
      ],
      "text/plain": [
       "  PassengerId HomePlanet CryoSleep  Cabin  Destination   Age    VIP  \\\n",
       "0     0001_01     Europa     False  B/0/P  TRAPPIST-1e  39.0  False   \n",
       "1     0002_01      Earth     False  F/0/S  TRAPPIST-1e  24.0  False   \n",
       "2     0003_01     Europa     False  A/0/S  TRAPPIST-1e  58.0   True   \n",
       "3     0003_02     Europa     False  A/0/S  TRAPPIST-1e  33.0  False   \n",
       "4     0004_01      Earth     False  F/1/S  TRAPPIST-1e  16.0  False   \n",
       "\n",
       "   RoomService  FoodCourt  ShoppingMall     Spa  VRDeck               Name  \\\n",
       "0          0.0        0.0           0.0     0.0     0.0    Maham Ofracculy   \n",
       "1        109.0        9.0          25.0   549.0    44.0       Juanna Vines   \n",
       "2         43.0     3576.0           0.0  6715.0    49.0      Altark Susent   \n",
       "3          0.0     1283.0         371.0  3329.0   193.0       Solam Susent   \n",
       "4        303.0       70.0         151.0   565.0     2.0  Willy Santantines   \n",
       "\n",
       "   Transported  \n",
       "0        False  \n",
       "1         True  \n",
       "2        False  \n",
       "3        False  \n",
       "4         True  "
      ]
     },
     "execution_count": 2,
     "metadata": {},
     "output_type": "execute_result"
    }
   ],
   "source": [
    "spaceship = pd.read_csv(\"https://raw.githubusercontent.com/data-bootcamp-v4/data/main/spaceship_titanic.csv\")\n",
    "spaceship.head()"
   ]
  },
  {
   "cell_type": "code",
   "execution_count": 3,
   "metadata": {},
   "outputs": [
    {
     "data": {
      "text/plain": [
       "(8693, 14)"
      ]
     },
     "execution_count": 3,
     "metadata": {},
     "output_type": "execute_result"
    }
   ],
   "source": [
    "spaceship.shape"
   ]
  },
  {
   "cell_type": "code",
   "execution_count": 4,
   "metadata": {},
   "outputs": [
    {
     "name": "stdout",
     "output_type": "stream",
     "text": [
      "<class 'pandas.core.frame.DataFrame'>\n",
      "RangeIndex: 8693 entries, 0 to 8692\n",
      "Data columns (total 14 columns):\n",
      " #   Column        Non-Null Count  Dtype  \n",
      "---  ------        --------------  -----  \n",
      " 0   PassengerId   8693 non-null   object \n",
      " 1   HomePlanet    8492 non-null   object \n",
      " 2   CryoSleep     8476 non-null   object \n",
      " 3   Cabin         8494 non-null   object \n",
      " 4   Destination   8511 non-null   object \n",
      " 5   Age           8514 non-null   float64\n",
      " 6   VIP           8490 non-null   object \n",
      " 7   RoomService   8512 non-null   float64\n",
      " 8   FoodCourt     8510 non-null   float64\n",
      " 9   ShoppingMall  8485 non-null   float64\n",
      " 10  Spa           8510 non-null   float64\n",
      " 11  VRDeck        8505 non-null   float64\n",
      " 12  Name          8493 non-null   object \n",
      " 13  Transported   8693 non-null   bool   \n",
      "dtypes: bool(1), float64(6), object(7)\n",
      "memory usage: 891.5+ KB\n"
     ]
    }
   ],
   "source": [
    "spaceship.info()"
   ]
  },
  {
   "cell_type": "code",
   "execution_count": 5,
   "metadata": {},
   "outputs": [
    {
     "data": {
      "text/plain": [
       "PassengerId       0\n",
       "HomePlanet      201\n",
       "CryoSleep       217\n",
       "Cabin           199\n",
       "Destination     182\n",
       "Age             179\n",
       "VIP             203\n",
       "RoomService     181\n",
       "FoodCourt       183\n",
       "ShoppingMall    208\n",
       "Spa             183\n",
       "VRDeck          188\n",
       "Name            200\n",
       "Transported       0\n",
       "dtype: int64"
      ]
     },
     "execution_count": 5,
     "metadata": {},
     "output_type": "execute_result"
    }
   ],
   "source": [
    "spaceship.isnull().sum()"
   ]
  },
  {
   "cell_type": "markdown",
   "metadata": {},
   "source": [
    "#### Handle missing Data (by Impute Missing Values):\n",
    "\n",
    "Replace NaN with median/mean (for numbers) or mode (for categories):"
   ]
  },
  {
   "cell_type": "code",
   "execution_count": 6,
   "metadata": {},
   "outputs": [
    {
     "name": "stdout",
     "output_type": "stream",
     "text": [
      "Numerical columns: ['Age', 'RoomService', 'FoodCourt', 'ShoppingMall', 'Spa', 'VRDeck']\n",
      "Categorical columns: ['PassengerId', 'HomePlanet', 'CryoSleep', 'Cabin', 'Destination', 'VIP', 'Name']\n",
      "\n",
      "Missing values after imputation:\n",
      "Age             0\n",
      "RoomService     0\n",
      "FoodCourt       0\n",
      "ShoppingMall    0\n",
      "Spa             0\n",
      "VRDeck          0\n",
      "PassengerId     0\n",
      "HomePlanet      0\n",
      "CryoSleep       0\n",
      "Cabin           0\n",
      "Destination     0\n",
      "VIP             0\n",
      "Name            0\n",
      "Transported     0\n",
      "dtype: int64\n"
     ]
    },
    {
     "data": {
      "text/html": [
       "<div>\n",
       "<style scoped>\n",
       "    .dataframe tbody tr th:only-of-type {\n",
       "        vertical-align: middle;\n",
       "    }\n",
       "\n",
       "    .dataframe tbody tr th {\n",
       "        vertical-align: top;\n",
       "    }\n",
       "\n",
       "    .dataframe thead th {\n",
       "        text-align: right;\n",
       "    }\n",
       "</style>\n",
       "<table border=\"1\" class=\"dataframe\">\n",
       "  <thead>\n",
       "    <tr style=\"text-align: right;\">\n",
       "      <th></th>\n",
       "      <th>Age</th>\n",
       "      <th>RoomService</th>\n",
       "      <th>FoodCourt</th>\n",
       "      <th>ShoppingMall</th>\n",
       "      <th>Spa</th>\n",
       "      <th>VRDeck</th>\n",
       "      <th>PassengerId</th>\n",
       "      <th>HomePlanet</th>\n",
       "      <th>CryoSleep</th>\n",
       "      <th>Cabin</th>\n",
       "      <th>Destination</th>\n",
       "      <th>VIP</th>\n",
       "      <th>Name</th>\n",
       "      <th>Transported</th>\n",
       "    </tr>\n",
       "  </thead>\n",
       "  <tbody>\n",
       "    <tr>\n",
       "      <th>0</th>\n",
       "      <td>39.0</td>\n",
       "      <td>0.0</td>\n",
       "      <td>0.0</td>\n",
       "      <td>0.0</td>\n",
       "      <td>0.0</td>\n",
       "      <td>0.0</td>\n",
       "      <td>0001_01</td>\n",
       "      <td>Europa</td>\n",
       "      <td>False</td>\n",
       "      <td>B/0/P</td>\n",
       "      <td>TRAPPIST-1e</td>\n",
       "      <td>False</td>\n",
       "      <td>Maham Ofracculy</td>\n",
       "      <td>False</td>\n",
       "    </tr>\n",
       "    <tr>\n",
       "      <th>1</th>\n",
       "      <td>24.0</td>\n",
       "      <td>109.0</td>\n",
       "      <td>9.0</td>\n",
       "      <td>25.0</td>\n",
       "      <td>549.0</td>\n",
       "      <td>44.0</td>\n",
       "      <td>0002_01</td>\n",
       "      <td>Earth</td>\n",
       "      <td>False</td>\n",
       "      <td>F/0/S</td>\n",
       "      <td>TRAPPIST-1e</td>\n",
       "      <td>False</td>\n",
       "      <td>Juanna Vines</td>\n",
       "      <td>True</td>\n",
       "    </tr>\n",
       "    <tr>\n",
       "      <th>2</th>\n",
       "      <td>58.0</td>\n",
       "      <td>43.0</td>\n",
       "      <td>3576.0</td>\n",
       "      <td>0.0</td>\n",
       "      <td>6715.0</td>\n",
       "      <td>49.0</td>\n",
       "      <td>0003_01</td>\n",
       "      <td>Europa</td>\n",
       "      <td>False</td>\n",
       "      <td>A/0/S</td>\n",
       "      <td>TRAPPIST-1e</td>\n",
       "      <td>True</td>\n",
       "      <td>Altark Susent</td>\n",
       "      <td>False</td>\n",
       "    </tr>\n",
       "    <tr>\n",
       "      <th>3</th>\n",
       "      <td>33.0</td>\n",
       "      <td>0.0</td>\n",
       "      <td>1283.0</td>\n",
       "      <td>371.0</td>\n",
       "      <td>3329.0</td>\n",
       "      <td>193.0</td>\n",
       "      <td>0003_02</td>\n",
       "      <td>Europa</td>\n",
       "      <td>False</td>\n",
       "      <td>A/0/S</td>\n",
       "      <td>TRAPPIST-1e</td>\n",
       "      <td>False</td>\n",
       "      <td>Solam Susent</td>\n",
       "      <td>False</td>\n",
       "    </tr>\n",
       "    <tr>\n",
       "      <th>4</th>\n",
       "      <td>16.0</td>\n",
       "      <td>303.0</td>\n",
       "      <td>70.0</td>\n",
       "      <td>151.0</td>\n",
       "      <td>565.0</td>\n",
       "      <td>2.0</td>\n",
       "      <td>0004_01</td>\n",
       "      <td>Earth</td>\n",
       "      <td>False</td>\n",
       "      <td>F/1/S</td>\n",
       "      <td>TRAPPIST-1e</td>\n",
       "      <td>False</td>\n",
       "      <td>Willy Santantines</td>\n",
       "      <td>True</td>\n",
       "    </tr>\n",
       "  </tbody>\n",
       "</table>\n",
       "</div>"
      ],
      "text/plain": [
       "    Age  RoomService  FoodCourt  ShoppingMall     Spa  VRDeck PassengerId  \\\n",
       "0  39.0          0.0        0.0           0.0     0.0     0.0     0001_01   \n",
       "1  24.0        109.0        9.0          25.0   549.0    44.0     0002_01   \n",
       "2  58.0         43.0     3576.0           0.0  6715.0    49.0     0003_01   \n",
       "3  33.0          0.0     1283.0         371.0  3329.0   193.0     0003_02   \n",
       "4  16.0        303.0       70.0         151.0   565.0     2.0     0004_01   \n",
       "\n",
       "  HomePlanet CryoSleep  Cabin  Destination    VIP               Name  \\\n",
       "0     Europa     False  B/0/P  TRAPPIST-1e  False    Maham Ofracculy   \n",
       "1      Earth     False  F/0/S  TRAPPIST-1e  False       Juanna Vines   \n",
       "2     Europa     False  A/0/S  TRAPPIST-1e   True      Altark Susent   \n",
       "3     Europa     False  A/0/S  TRAPPIST-1e  False       Solam Susent   \n",
       "4      Earth     False  F/1/S  TRAPPIST-1e  False  Willy Santantines   \n",
       "\n",
       "   Transported  \n",
       "0        False  \n",
       "1         True  \n",
       "2        False  \n",
       "3        False  \n",
       "4         True  "
      ]
     },
     "execution_count": 6,
     "metadata": {},
     "output_type": "execute_result"
    }
   ],
   "source": [
    "# Separate numerical and categorical columns\n",
    "# =========================================\n",
    "\n",
    "# Identify numerical columns (all number-based features)\n",
    "numerical_cols = spaceship.select_dtypes(include=['int64', 'float64']).columns.tolist()\n",
    "print(\"Numerical columns:\", numerical_cols)\n",
    "\n",
    "# Identify categorical columns (all object/boolean features)\n",
    "categorical_cols = spaceship.select_dtypes(include=['object', 'bool']).columns.tolist()\n",
    "# Remove target variable 'Transported' from categorical cols\n",
    "categorical_cols.remove('Transported') if 'Transported' in categorical_cols else None\n",
    "print(\"Categorical columns:\", categorical_cols)\n",
    "\n",
    "# Create separate DataFrames for each type\n",
    "numerical_data = spaceship[numerical_cols]\n",
    "categorical_data = spaceship[categorical_cols]\n",
    "\n",
    "# Impute missing values\n",
    "# =====================\n",
    "from sklearn.impute import SimpleImputer\n",
    "\n",
    "# For numerical data: fill missing values with median\n",
    "num_imputer = SimpleImputer(strategy='median')\n",
    "numerical_data_imputed = pd.DataFrame(\n",
    "    num_imputer.fit_transform(numerical_data),\n",
    "    columns=numerical_data.columns\n",
    ")\n",
    "\n",
    "# For categorical data: fill missing values with most frequent category\n",
    "cat_imputer = SimpleImputer(strategy='most_frequent')\n",
    "categorical_data_imputed = pd.DataFrame(\n",
    "    cat_imputer.fit_transform(categorical_data),\n",
    "    columns=categorical_data.columns\n",
    ")\n",
    "\n",
    "# Recombine the data\n",
    "# ==================\n",
    "# Add back the target variable\n",
    "clean_spaceship = pd.concat([\n",
    "    numerical_data_imputed,\n",
    "    categorical_data_imputed,\n",
    "    spaceship['Transported']\n",
    "], axis=1)\n",
    "\n",
    "# Verify no missing values remain\n",
    "print(\"\\nMissing values after imputation:\")\n",
    "print(clean_spaceship.isnull().sum())\n",
    "\n",
    "# Show the cleaned data\n",
    "clean_spaceship.head()"
   ]
  },
  {
   "cell_type": "code",
   "execution_count": 7,
   "metadata": {},
   "outputs": [
    {
     "data": {
      "text/plain": [
       "Age             0\n",
       "RoomService     0\n",
       "FoodCourt       0\n",
       "ShoppingMall    0\n",
       "Spa             0\n",
       "VRDeck          0\n",
       "PassengerId     0\n",
       "HomePlanet      0\n",
       "CryoSleep       0\n",
       "Cabin           0\n",
       "Destination     0\n",
       "VIP             0\n",
       "Name            0\n",
       "Transported     0\n",
       "dtype: int64"
      ]
     },
     "execution_count": 7,
     "metadata": {},
     "output_type": "execute_result"
    }
   ],
   "source": [
    "# spaceship = spaceship.dropna()\n",
    "clean_spaceship.isnull().sum()"
   ]
  },
  {
   "cell_type": "code",
   "execution_count": 8,
   "metadata": {},
   "outputs": [
    {
     "name": "stdout",
     "output_type": "stream",
     "text": [
      "<class 'pandas.core.frame.DataFrame'>\n",
      "RangeIndex: 8693 entries, 0 to 8692\n",
      "Data columns (total 6 columns):\n",
      " #   Column        Non-Null Count  Dtype  \n",
      "---  ------        --------------  -----  \n",
      " 0   Age           8693 non-null   float64\n",
      " 1   RoomService   8693 non-null   float64\n",
      " 2   FoodCourt     8693 non-null   float64\n",
      " 3   ShoppingMall  8693 non-null   float64\n",
      " 4   Spa           8693 non-null   float64\n",
      " 5   VRDeck        8693 non-null   float64\n",
      "dtypes: float64(6)\n",
      "memory usage: 407.6 KB\n"
     ]
    }
   ],
   "source": [
    "clean_spaceship.select_dtypes(include=['number']).info()\n"
   ]
  },
  {
   "cell_type": "markdown",
   "metadata": {},
   "source": [
    "Now perform the same as before:\n",
    "- Feature Scaling\n",
    "- Feature Selection\n"
   ]
  },
  {
   "cell_type": "code",
   "execution_count": 9,
   "metadata": {},
   "outputs": [],
   "source": [
    "#your code here\n",
    "from sklearn.preprocessing import MinMaxScaler\n",
    "\n",
    "# Feature Scaling\n",
    "numeric_cols = ['Age', 'RoomService', 'FoodCourt', 'ShoppingMall', 'Spa', 'VRDeck']\n",
    "scaler = MinMaxScaler()\n",
    "clean_spaceship[numeric_cols] = scaler.fit_transform(clean_spaceship[numeric_cols])\n",
    "\n",
    "# Feature Selection\n",
    "clean_spaceship = clean_spaceship.drop(columns=['PassengerId', 'Name', 'Cabin'])\n",
    "\n",
    "# Convert categorical columns to numeric (one-hot encoding)\n",
    "clean_spaceship = pd.get_dummies(clean_spaceship, columns=['HomePlanet', 'Destination', 'VIP', 'CryoSleep'], drop_first = True)"
   ]
  },
  {
   "cell_type": "code",
   "execution_count": 10,
   "metadata": {},
   "outputs": [
    {
     "data": {
      "text/html": [
       "<div>\n",
       "<style scoped>\n",
       "    .dataframe tbody tr th:only-of-type {\n",
       "        vertical-align: middle;\n",
       "    }\n",
       "\n",
       "    .dataframe tbody tr th {\n",
       "        vertical-align: top;\n",
       "    }\n",
       "\n",
       "    .dataframe thead th {\n",
       "        text-align: right;\n",
       "    }\n",
       "</style>\n",
       "<table border=\"1\" class=\"dataframe\">\n",
       "  <thead>\n",
       "    <tr style=\"text-align: right;\">\n",
       "      <th></th>\n",
       "      <th>Age</th>\n",
       "      <th>RoomService</th>\n",
       "      <th>FoodCourt</th>\n",
       "      <th>ShoppingMall</th>\n",
       "      <th>Spa</th>\n",
       "      <th>VRDeck</th>\n",
       "    </tr>\n",
       "  </thead>\n",
       "  <tbody>\n",
       "    <tr>\n",
       "      <th>0</th>\n",
       "      <td>0.493671</td>\n",
       "      <td>0.000000</td>\n",
       "      <td>0.000000</td>\n",
       "      <td>0.000000</td>\n",
       "      <td>0.000000</td>\n",
       "      <td>0.000000</td>\n",
       "    </tr>\n",
       "    <tr>\n",
       "      <th>1</th>\n",
       "      <td>0.303797</td>\n",
       "      <td>0.007608</td>\n",
       "      <td>0.000302</td>\n",
       "      <td>0.001064</td>\n",
       "      <td>0.024500</td>\n",
       "      <td>0.001823</td>\n",
       "    </tr>\n",
       "    <tr>\n",
       "      <th>2</th>\n",
       "      <td>0.734177</td>\n",
       "      <td>0.003001</td>\n",
       "      <td>0.119948</td>\n",
       "      <td>0.000000</td>\n",
       "      <td>0.299670</td>\n",
       "      <td>0.002030</td>\n",
       "    </tr>\n",
       "    <tr>\n",
       "      <th>3</th>\n",
       "      <td>0.417722</td>\n",
       "      <td>0.000000</td>\n",
       "      <td>0.043035</td>\n",
       "      <td>0.015793</td>\n",
       "      <td>0.148563</td>\n",
       "      <td>0.007997</td>\n",
       "    </tr>\n",
       "    <tr>\n",
       "      <th>4</th>\n",
       "      <td>0.202532</td>\n",
       "      <td>0.021149</td>\n",
       "      <td>0.002348</td>\n",
       "      <td>0.006428</td>\n",
       "      <td>0.025214</td>\n",
       "      <td>0.000083</td>\n",
       "    </tr>\n",
       "  </tbody>\n",
       "</table>\n",
       "</div>"
      ],
      "text/plain": [
       "        Age  RoomService  FoodCourt  ShoppingMall       Spa    VRDeck\n",
       "0  0.493671     0.000000   0.000000      0.000000  0.000000  0.000000\n",
       "1  0.303797     0.007608   0.000302      0.001064  0.024500  0.001823\n",
       "2  0.734177     0.003001   0.119948      0.000000  0.299670  0.002030\n",
       "3  0.417722     0.000000   0.043035      0.015793  0.148563  0.007997\n",
       "4  0.202532     0.021149   0.002348      0.006428  0.025214  0.000083"
      ]
     },
     "execution_count": 10,
     "metadata": {},
     "output_type": "execute_result"
    }
   ],
   "source": [
    "clean_spaceship[numeric_cols].head()\n"
   ]
  },
  {
   "cell_type": "code",
   "execution_count": 11,
   "metadata": {},
   "outputs": [
    {
     "data": {
      "text/html": [
       "<div>\n",
       "<style scoped>\n",
       "    .dataframe tbody tr th:only-of-type {\n",
       "        vertical-align: middle;\n",
       "    }\n",
       "\n",
       "    .dataframe tbody tr th {\n",
       "        vertical-align: top;\n",
       "    }\n",
       "\n",
       "    .dataframe thead th {\n",
       "        text-align: right;\n",
       "    }\n",
       "</style>\n",
       "<table border=\"1\" class=\"dataframe\">\n",
       "  <thead>\n",
       "    <tr style=\"text-align: right;\">\n",
       "      <th></th>\n",
       "      <th>Age</th>\n",
       "      <th>RoomService</th>\n",
       "      <th>FoodCourt</th>\n",
       "      <th>ShoppingMall</th>\n",
       "      <th>Spa</th>\n",
       "      <th>VRDeck</th>\n",
       "      <th>Transported</th>\n",
       "      <th>HomePlanet_Europa</th>\n",
       "      <th>HomePlanet_Mars</th>\n",
       "      <th>Destination_PSO J318.5-22</th>\n",
       "      <th>Destination_TRAPPIST-1e</th>\n",
       "      <th>VIP_True</th>\n",
       "      <th>CryoSleep_True</th>\n",
       "    </tr>\n",
       "  </thead>\n",
       "  <tbody>\n",
       "    <tr>\n",
       "      <th>0</th>\n",
       "      <td>0.493671</td>\n",
       "      <td>0.000000</td>\n",
       "      <td>0.000000</td>\n",
       "      <td>0.000000</td>\n",
       "      <td>0.000000</td>\n",
       "      <td>0.000000</td>\n",
       "      <td>False</td>\n",
       "      <td>True</td>\n",
       "      <td>False</td>\n",
       "      <td>False</td>\n",
       "      <td>True</td>\n",
       "      <td>False</td>\n",
       "      <td>False</td>\n",
       "    </tr>\n",
       "    <tr>\n",
       "      <th>1</th>\n",
       "      <td>0.303797</td>\n",
       "      <td>0.007608</td>\n",
       "      <td>0.000302</td>\n",
       "      <td>0.001064</td>\n",
       "      <td>0.024500</td>\n",
       "      <td>0.001823</td>\n",
       "      <td>True</td>\n",
       "      <td>False</td>\n",
       "      <td>False</td>\n",
       "      <td>False</td>\n",
       "      <td>True</td>\n",
       "      <td>False</td>\n",
       "      <td>False</td>\n",
       "    </tr>\n",
       "    <tr>\n",
       "      <th>2</th>\n",
       "      <td>0.734177</td>\n",
       "      <td>0.003001</td>\n",
       "      <td>0.119948</td>\n",
       "      <td>0.000000</td>\n",
       "      <td>0.299670</td>\n",
       "      <td>0.002030</td>\n",
       "      <td>False</td>\n",
       "      <td>True</td>\n",
       "      <td>False</td>\n",
       "      <td>False</td>\n",
       "      <td>True</td>\n",
       "      <td>True</td>\n",
       "      <td>False</td>\n",
       "    </tr>\n",
       "    <tr>\n",
       "      <th>3</th>\n",
       "      <td>0.417722</td>\n",
       "      <td>0.000000</td>\n",
       "      <td>0.043035</td>\n",
       "      <td>0.015793</td>\n",
       "      <td>0.148563</td>\n",
       "      <td>0.007997</td>\n",
       "      <td>False</td>\n",
       "      <td>True</td>\n",
       "      <td>False</td>\n",
       "      <td>False</td>\n",
       "      <td>True</td>\n",
       "      <td>False</td>\n",
       "      <td>False</td>\n",
       "    </tr>\n",
       "    <tr>\n",
       "      <th>4</th>\n",
       "      <td>0.202532</td>\n",
       "      <td>0.021149</td>\n",
       "      <td>0.002348</td>\n",
       "      <td>0.006428</td>\n",
       "      <td>0.025214</td>\n",
       "      <td>0.000083</td>\n",
       "      <td>True</td>\n",
       "      <td>False</td>\n",
       "      <td>False</td>\n",
       "      <td>False</td>\n",
       "      <td>True</td>\n",
       "      <td>False</td>\n",
       "      <td>False</td>\n",
       "    </tr>\n",
       "  </tbody>\n",
       "</table>\n",
       "</div>"
      ],
      "text/plain": [
       "        Age  RoomService  FoodCourt  ShoppingMall       Spa    VRDeck  \\\n",
       "0  0.493671     0.000000   0.000000      0.000000  0.000000  0.000000   \n",
       "1  0.303797     0.007608   0.000302      0.001064  0.024500  0.001823   \n",
       "2  0.734177     0.003001   0.119948      0.000000  0.299670  0.002030   \n",
       "3  0.417722     0.000000   0.043035      0.015793  0.148563  0.007997   \n",
       "4  0.202532     0.021149   0.002348      0.006428  0.025214  0.000083   \n",
       "\n",
       "   Transported  HomePlanet_Europa  HomePlanet_Mars  Destination_PSO J318.5-22  \\\n",
       "0        False               True            False                      False   \n",
       "1         True              False            False                      False   \n",
       "2        False               True            False                      False   \n",
       "3        False               True            False                      False   \n",
       "4         True              False            False                      False   \n",
       "\n",
       "   Destination_TRAPPIST-1e  VIP_True  CryoSleep_True  \n",
       "0                     True     False           False  \n",
       "1                     True     False           False  \n",
       "2                     True      True           False  \n",
       "3                     True     False           False  \n",
       "4                     True     False           False  "
      ]
     },
     "execution_count": 11,
     "metadata": {},
     "output_type": "execute_result"
    }
   ],
   "source": [
    "clean_spaceship.head()"
   ]
  },
  {
   "cell_type": "markdown",
   "metadata": {},
   "source": [
    "**Perform Train Test Split**"
   ]
  },
  {
   "cell_type": "code",
   "execution_count": 12,
   "metadata": {},
   "outputs": [],
   "source": [
    "#your code here\n",
    "X = clean_spaceship.drop('Transported', axis=1)\n",
    "y = clean_spaceship.Transported\n",
    "\n",
    "X_train, X_test, y_train, y_test = train_test_split(X, y, test_size=0.3, random_state=42)"
   ]
  },
  {
   "cell_type": "code",
   "execution_count": 13,
   "metadata": {},
   "outputs": [
    {
     "name": "stdout",
     "output_type": "stream",
     "text": [
      "<class 'pandas.core.frame.DataFrame'>\n",
      "RangeIndex: 8693 entries, 0 to 8692\n",
      "Data columns (total 12 columns):\n",
      " #   Column                     Non-Null Count  Dtype  \n",
      "---  ------                     --------------  -----  \n",
      " 0   Age                        8693 non-null   float64\n",
      " 1   RoomService                8693 non-null   float64\n",
      " 2   FoodCourt                  8693 non-null   float64\n",
      " 3   ShoppingMall               8693 non-null   float64\n",
      " 4   Spa                        8693 non-null   float64\n",
      " 5   VRDeck                     8693 non-null   float64\n",
      " 6   HomePlanet_Europa          8693 non-null   bool   \n",
      " 7   HomePlanet_Mars            8693 non-null   bool   \n",
      " 8   Destination_PSO J318.5-22  8693 non-null   bool   \n",
      " 9   Destination_TRAPPIST-1e    8693 non-null   bool   \n",
      " 10  VIP_True                   8693 non-null   bool   \n",
      " 11  CryoSleep_True             8693 non-null   bool   \n",
      "dtypes: bool(6), float64(6)\n",
      "memory usage: 458.5 KB\n"
     ]
    }
   ],
   "source": [
    "X.info()"
   ]
  },
  {
   "cell_type": "markdown",
   "metadata": {},
   "source": [
    "**Model Selection** - now you will try to apply different ensemble methods in order to get a better model"
   ]
  },
  {
   "cell_type": "markdown",
   "metadata": {},
   "source": [
    "- Simple Decition Tree as a Baseline"
   ]
  },
  {
   "cell_type": "code",
   "execution_count": 14,
   "metadata": {},
   "outputs": [
    {
     "name": "stdout",
     "output_type": "stream",
     "text": [
      "Tree Accuracy (without depth value): 0.7324\n",
      "Tree Accuracy (depth=3): 0.7186\n"
     ]
    }
   ],
   "source": [
    "#### Simple Decition Tree as a Baseline\n",
    "\n",
    "from sklearn.tree import DecisionTreeClassifier\n",
    "\n",
    "# Train a simple tree\n",
    "tree = DecisionTreeClassifier(random_state=42)\n",
    "tree.fit(X_train, y_train)\n",
    "\n",
    "# Check accuracy\n",
    "print(f\"Tree Accuracy (without depth value): {tree.score(X_test, y_test):.4f}\")\n",
    "\n",
    "\n",
    "tree3 = DecisionTreeClassifier(max_depth=3, random_state=42)  # Stops at 3 levels\n",
    "tree3.fit(X_train, y_train)\n",
    "tree3_score = tree3.score(X_test, y_test)\n",
    "print(f\"Tree Accuracy (depth=3): {tree3_score:.4f}\")"
   ]
  },
  {
   "cell_type": "markdown",
   "metadata": {},
   "source": [
    "- Bagging and Pasting"
   ]
  },
  {
   "cell_type": "code",
   "execution_count": 15,
   "metadata": {},
   "outputs": [
    {
     "name": "stdout",
     "output_type": "stream",
     "text": [
      "Bagging Tree Accuracy (depth=3): 0.7818\n"
     ]
    }
   ],
   "source": [
    "#your code here\n",
    "from sklearn.ensemble import BaggingClassifier\n",
    "\n",
    "# Base model (usually a decision tree)\n",
    "base_model = DecisionTreeClassifier(max_depth=3, random_state=42)\n",
    "\n",
    "bagging_clas = BaggingClassifier(\n",
    "    base_model, # depth 3 to force tree to be \"weak\"\n",
    "    n_estimators=10, # 10 trees\n",
    "    max_samples=100, # we limit each weaker tree to 100 datapoints\n",
    "    random_state=42) # same fixing random state as before\n",
    "\n",
    "# Train and evaluate\n",
    "bagging_clas.fit(X_train, y_train)\n",
    "bagging_clas_score = bagging_clas.score(X_test,y_test)\n",
    "\n",
    "print(f\"Bagging Tree Accuracy (depth=3): {bagging_clas_score:.4f}\")\n"
   ]
  },
  {
   "cell_type": "code",
   "execution_count": 16,
   "metadata": {},
   "outputs": [
    {
     "name": "stdout",
     "output_type": "stream",
     "text": [
      "Pasting Accuracy: 0.7523\n"
     ]
    }
   ],
   "source": [
    "pasting = BaggingClassifier(\n",
    "    base_model,\n",
    "    n_estimators=100,\n",
    "    max_samples=0.5,\n",
    "    bootstrap=False,  # Pasting (no replacement)\n",
    "    random_state=42\n",
    ")\n",
    "pasting.fit(X_train, y_train)\n",
    "pasting_clas_score = pasting.score(X_test, y_test)\n",
    "print(f\"Pasting Accuracy: {pasting_clas_score:.4f}\")"
   ]
  },
  {
   "cell_type": "markdown",
   "metadata": {},
   "source": [
    "- Random Forests"
   ]
  },
  {
   "cell_type": "code",
   "execution_count": 17,
   "metadata": {},
   "outputs": [
    {
     "name": "stdout",
     "output_type": "stream",
     "text": [
      "Forest Accuracy: 0.7538\n"
     ]
    }
   ],
   "source": [
    "#your code here\n",
    "\n",
    "from sklearn.ensemble import RandomForestClassifier\n",
    "\n",
    "forest = RandomForestClassifier(n_estimators=10, # same 10 trees\n",
    "                               max_depth=3, # depth 3 to force tree to be \"weak\"\n",
    "                               random_state=42) # fixing rand because I'm insecure and afraid you will judge me if I get a bad random selection that does not prove my point\n",
    "forest.fit(X_train, y_train)\n",
    "forest_clas_score = forest.score(X_test,y_test)\n",
    "\n",
    "print(f\"Forest Accuracy: {forest_clas_score:.4f}\")\n"
   ]
  },
  {
   "cell_type": "markdown",
   "metadata": {},
   "source": [
    "- Gradient Boosting"
   ]
  },
  {
   "cell_type": "code",
   "execution_count": 18,
   "metadata": {},
   "outputs": [
    {
     "name": "stdout",
     "output_type": "stream",
     "text": [
      "Gradient Boosting accuracy: 0.7849\n"
     ]
    }
   ],
   "source": [
    "#your code here\n",
    "\n",
    "from sklearn.ensemble import GradientBoostingClassifier\n",
    "\n",
    "gb_clas = GradientBoostingClassifier(max_depth=5, #gradient boosting always works with trees, no need to call the tree\n",
    "                                   n_estimators=50,\n",
    "                                   random_state=42 # tastes like chicken\n",
    "                                   )\n",
    "gb_clas.fit(X_train, y_train)\n",
    "gb_clas_score = gb_clas.score(X_test,y_test)\n",
    "\n",
    "print(f\"Gradient Boosting accuracy: {gb_clas_score:.4f}\")"
   ]
  },
  {
   "cell_type": "markdown",
   "metadata": {},
   "source": [
    "- Adaptive Boosting"
   ]
  },
  {
   "cell_type": "code",
   "execution_count": 19,
   "metadata": {},
   "outputs": [
    {
     "name": "stdout",
     "output_type": "stream",
     "text": [
      "Gradient Boosting accuracy: 0.7826\n"
     ]
    }
   ],
   "source": [
    "#your code here\n",
    "from sklearn.ensemble import AdaBoostClassifier\n",
    "\n",
    "ada_clas = AdaBoostClassifier(base_model, #ada boosting needs a base tree model\n",
    "                              n_estimators=50,\n",
    "                              random_state=42 # tastes like chicken\n",
    "                              )\n",
    "\n",
    "ada_clas.fit(X_train, y_train)\n",
    "ada_clas_score = ada_clas.score(X_test,y_test)\n",
    "\n",
    "print(f\"Gradient Boosting accuracy: {ada_clas_score:.4f}\")"
   ]
  },
  {
   "cell_type": "markdown",
   "metadata": {},
   "source": [
    "Which model is the best and why?"
   ]
  },
  {
   "cell_type": "code",
   "execution_count": 20,
   "metadata": {},
   "outputs": [
    {
     "name": "stdout",
     "output_type": "stream",
     "text": [
      "\n",
      "==================================================\n",
      "FINAL MODEL COMPARISON\n",
      "==================================================\n",
      "\n",
      "MODEL ACCURACIES (Highest to Lowest):\n",
      "- Gradient Boosting:   0.7849 (78.5%)\n",
      "- AdaBoost:            0.7826 (78.3%)\n",
      "- Bagging:             0.7818 (78.2%)\n",
      "- Random Forest:       0.7538 (75.4%)\n",
      "- Pasting:             0.7523 (75.2%)\n",
      "- Decision Tree:       0.7186 (71.9%)\n",
      "\n",
      "CONCLUSION:\n",
      "The best model is Gradient Boosting with 78.5% accuracy because:\n",
      "- It outperformed other models by 0.0663 over Decision Tree, 0.0031 over Bagging, 0.0326 over Pasting, 0.0311 over Random Forest, 0.0023 over AdaBoost\n",
      "\n",
      "Key observations:\n",
      "1. Ensemble methods consistently outperformed the single Decision Tree\n",
      "2. Gradient Boosting showed the strongest generalization capability\n",
      "3. The performance difference between top models was 0.0023\n"
     ]
    }
   ],
   "source": [
    "#comment here\n",
    "\n",
    "# Compare all model performances\n",
    "print(\"\\n\" + \"=\"*50)\n",
    "print(\"FINAL MODEL COMPARISON\")\n",
    "print(\"=\"*50)\n",
    "\n",
    "# Create a comparison dictionary\n",
    "model_comparison = {\n",
    "    \"Decision Tree\": tree3_score,\n",
    "    \"Bagging\": bagging_clas_score,\n",
    "    \"Pasting\": pasting_clas_score,\n",
    "    \"Random Forest\": forest_clas_score,\n",
    "    \"Gradient Boosting\": gb_clas_score,\n",
    "    \"AdaBoost\": ada_clas_score\n",
    "}\n",
    "\n",
    "# Print results in descending order\n",
    "print(\"\\nMODEL ACCURACIES (Highest to Lowest):\")\n",
    "for model, score in sorted(model_comparison.items(), \n",
    "                          key=lambda x: x[1], \n",
    "                          reverse=True):\n",
    "    print(f\"- {model + ':':<20} {score:.4f} ({score*100:.1f}%)\")\n",
    "\n",
    "# Identify best model\n",
    "best_model = max(model_comparison, key=model_comparison.get)\n",
    "best_score = model_comparison[best_model]\n",
    "\n",
    "# Justification analysis\n",
    "print(\"\\nCONCLUSION:\")\n",
    "print(f\"The best model is {best_model} with {best_score*100:.1f}% accuracy because:\")\n",
    "print(\"- It outperformed other models by \" + \n",
    "      \", \".join([f\"{best_score - score:.4f} over {model}\" \n",
    "                for model, score in model_comparison.items() \n",
    "                if model != best_model]))\n",
    "print(\"\\nKey observations:\")\n",
    "print(\"1. Ensemble methods consistently outperformed the single Decision Tree\")\n",
    "print(f\"2. {best_model} showed the strongest generalization capability\")\n",
    "print(\"3. The performance difference between top models was \" + \n",
    "      f\"{max(model_comparison.values()) - sorted(model_comparison.values())[-2]:.4f}\")"
   ]
  }
 ],
 "metadata": {
  "kernelspec": {
   "display_name": "datasci_env",
   "language": "python",
   "name": "python3"
  },
  "language_info": {
   "codemirror_mode": {
    "name": "ipython",
    "version": 3
   },
   "file_extension": ".py",
   "mimetype": "text/x-python",
   "name": "python",
   "nbconvert_exporter": "python",
   "pygments_lexer": "ipython3",
   "version": "3.12.3"
  }
 },
 "nbformat": 4,
 "nbformat_minor": 2
}
